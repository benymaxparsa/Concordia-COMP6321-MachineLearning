{
 "cells": [
  {
   "cell_type": "code",
   "id": "initial_id",
   "metadata": {
    "collapsed": true,
    "ExecuteTime": {
     "end_time": "2024-10-11T01:37:11.636914Z",
     "start_time": "2024-10-11T01:37:11.631222Z"
    }
   },
   "source": [
    "import numpy as np\n",
    "import pandas as pd\n",
    "import matplotlib.pyplot as plt\n",
    "import sklearn.preprocessing"
   ],
   "outputs": [],
   "execution_count": 318
  },
  {
   "metadata": {},
   "cell_type": "markdown",
   "source": "# Exercise 1: Regression Implementation",
   "id": "898fce365ac630b3"
  },
  {
   "metadata": {},
   "cell_type": "markdown",
   "source": "## Question 2",
   "id": "ebc5a341d780004"
  },
  {
   "metadata": {},
   "cell_type": "markdown",
   "source": [
    "Implement the Ridge regression algorithm using the closed form solution for linear regression. \n",
    "Test Ridge regression implementation on the Boston housing dataset (to predict the median house price, \\ie, $y$). Use the train and test splits provided on Moodle. Try $\\lambda \\in \\{0, 0.25, 0.5, 0.75, 1\\}$ and report your training error, and test error for each. \n"
   ],
   "id": "609d368bbcda1b46"
  },
  {
   "metadata": {},
   "cell_type": "markdown",
   "source": "### Step 1: Load the Dataset\n",
   "id": "6ac4c8c2a48ab19e"
  },
  {
   "metadata": {
    "ExecuteTime": {
     "end_time": "2024-10-11T01:37:11.695982Z",
     "start_time": "2024-10-11T01:37:11.662614Z"
    }
   },
   "cell_type": "code",
   "source": [
    "house_train_X = pd.read_csv('./housing_dataset/housing_X_train.csv', header=None).T\n",
    "house_train_X"
   ],
   "id": "bc3b9dbe7f799b96",
   "outputs": [
    {
     "data": {
      "text/plain": [
       "          0     1     2    3      4      5     6       7    8      9     10  \\\n",
       "0    0.00632  18.0  2.31  0.0  0.538  6.575  65.2  4.0900  1.0  296.0  15.3   \n",
       "1    0.02731   0.0  7.07  0.0  0.469  6.421  78.9  4.9671  2.0  242.0  17.8   \n",
       "2    0.02729   0.0  7.07  0.0  0.469  7.185  61.1  4.9671  2.0  242.0  17.8   \n",
       "3    0.03237   0.0  2.18  0.0  0.458  6.998  45.8  6.0622  3.0  222.0  18.7   \n",
       "4    0.06905   0.0  2.18  0.0  0.458  7.147  54.2  6.0622  3.0  222.0  18.7   \n",
       "..       ...   ...   ...  ...    ...    ...   ...     ...  ...    ...   ...   \n",
       "301  0.03537  34.0  6.09  0.0  0.433  6.590  40.4  5.4917  7.0  329.0  16.1   \n",
       "302  0.09266  34.0  6.09  0.0  0.433  6.495  18.4  5.4917  7.0  329.0  16.1   \n",
       "303  0.10000  34.0  6.09  0.0  0.433  6.982  17.7  5.4917  7.0  329.0  16.1   \n",
       "304  0.05515  33.0  2.18  0.0  0.472  7.236  41.1  4.0220  7.0  222.0  18.4   \n",
       "305  0.05479  33.0  2.18  0.0  0.472  6.616  58.1  3.3700  7.0  222.0  18.4   \n",
       "\n",
       "         11    12  \n",
       "0    396.90  4.98  \n",
       "1    396.90  9.14  \n",
       "2    392.83  4.03  \n",
       "3    394.63  2.94  \n",
       "4    396.90  5.33  \n",
       "..      ...   ...  \n",
       "301  395.75  9.50  \n",
       "302  383.61  8.67  \n",
       "303  390.43  4.86  \n",
       "304  393.68  6.93  \n",
       "305  393.36  8.93  \n",
       "\n",
       "[306 rows x 13 columns]"
      ],
      "text/html": [
       "<div>\n",
       "<style scoped>\n",
       "    .dataframe tbody tr th:only-of-type {\n",
       "        vertical-align: middle;\n",
       "    }\n",
       "\n",
       "    .dataframe tbody tr th {\n",
       "        vertical-align: top;\n",
       "    }\n",
       "\n",
       "    .dataframe thead th {\n",
       "        text-align: right;\n",
       "    }\n",
       "</style>\n",
       "<table border=\"1\" class=\"dataframe\">\n",
       "  <thead>\n",
       "    <tr style=\"text-align: right;\">\n",
       "      <th></th>\n",
       "      <th>0</th>\n",
       "      <th>1</th>\n",
       "      <th>2</th>\n",
       "      <th>3</th>\n",
       "      <th>4</th>\n",
       "      <th>5</th>\n",
       "      <th>6</th>\n",
       "      <th>7</th>\n",
       "      <th>8</th>\n",
       "      <th>9</th>\n",
       "      <th>10</th>\n",
       "      <th>11</th>\n",
       "      <th>12</th>\n",
       "    </tr>\n",
       "  </thead>\n",
       "  <tbody>\n",
       "    <tr>\n",
       "      <th>0</th>\n",
       "      <td>0.00632</td>\n",
       "      <td>18.0</td>\n",
       "      <td>2.31</td>\n",
       "      <td>0.0</td>\n",
       "      <td>0.538</td>\n",
       "      <td>6.575</td>\n",
       "      <td>65.2</td>\n",
       "      <td>4.0900</td>\n",
       "      <td>1.0</td>\n",
       "      <td>296.0</td>\n",
       "      <td>15.3</td>\n",
       "      <td>396.90</td>\n",
       "      <td>4.98</td>\n",
       "    </tr>\n",
       "    <tr>\n",
       "      <th>1</th>\n",
       "      <td>0.02731</td>\n",
       "      <td>0.0</td>\n",
       "      <td>7.07</td>\n",
       "      <td>0.0</td>\n",
       "      <td>0.469</td>\n",
       "      <td>6.421</td>\n",
       "      <td>78.9</td>\n",
       "      <td>4.9671</td>\n",
       "      <td>2.0</td>\n",
       "      <td>242.0</td>\n",
       "      <td>17.8</td>\n",
       "      <td>396.90</td>\n",
       "      <td>9.14</td>\n",
       "    </tr>\n",
       "    <tr>\n",
       "      <th>2</th>\n",
       "      <td>0.02729</td>\n",
       "      <td>0.0</td>\n",
       "      <td>7.07</td>\n",
       "      <td>0.0</td>\n",
       "      <td>0.469</td>\n",
       "      <td>7.185</td>\n",
       "      <td>61.1</td>\n",
       "      <td>4.9671</td>\n",
       "      <td>2.0</td>\n",
       "      <td>242.0</td>\n",
       "      <td>17.8</td>\n",
       "      <td>392.83</td>\n",
       "      <td>4.03</td>\n",
       "    </tr>\n",
       "    <tr>\n",
       "      <th>3</th>\n",
       "      <td>0.03237</td>\n",
       "      <td>0.0</td>\n",
       "      <td>2.18</td>\n",
       "      <td>0.0</td>\n",
       "      <td>0.458</td>\n",
       "      <td>6.998</td>\n",
       "      <td>45.8</td>\n",
       "      <td>6.0622</td>\n",
       "      <td>3.0</td>\n",
       "      <td>222.0</td>\n",
       "      <td>18.7</td>\n",
       "      <td>394.63</td>\n",
       "      <td>2.94</td>\n",
       "    </tr>\n",
       "    <tr>\n",
       "      <th>4</th>\n",
       "      <td>0.06905</td>\n",
       "      <td>0.0</td>\n",
       "      <td>2.18</td>\n",
       "      <td>0.0</td>\n",
       "      <td>0.458</td>\n",
       "      <td>7.147</td>\n",
       "      <td>54.2</td>\n",
       "      <td>6.0622</td>\n",
       "      <td>3.0</td>\n",
       "      <td>222.0</td>\n",
       "      <td>18.7</td>\n",
       "      <td>396.90</td>\n",
       "      <td>5.33</td>\n",
       "    </tr>\n",
       "    <tr>\n",
       "      <th>...</th>\n",
       "      <td>...</td>\n",
       "      <td>...</td>\n",
       "      <td>...</td>\n",
       "      <td>...</td>\n",
       "      <td>...</td>\n",
       "      <td>...</td>\n",
       "      <td>...</td>\n",
       "      <td>...</td>\n",
       "      <td>...</td>\n",
       "      <td>...</td>\n",
       "      <td>...</td>\n",
       "      <td>...</td>\n",
       "      <td>...</td>\n",
       "    </tr>\n",
       "    <tr>\n",
       "      <th>301</th>\n",
       "      <td>0.03537</td>\n",
       "      <td>34.0</td>\n",
       "      <td>6.09</td>\n",
       "      <td>0.0</td>\n",
       "      <td>0.433</td>\n",
       "      <td>6.590</td>\n",
       "      <td>40.4</td>\n",
       "      <td>5.4917</td>\n",
       "      <td>7.0</td>\n",
       "      <td>329.0</td>\n",
       "      <td>16.1</td>\n",
       "      <td>395.75</td>\n",
       "      <td>9.50</td>\n",
       "    </tr>\n",
       "    <tr>\n",
       "      <th>302</th>\n",
       "      <td>0.09266</td>\n",
       "      <td>34.0</td>\n",
       "      <td>6.09</td>\n",
       "      <td>0.0</td>\n",
       "      <td>0.433</td>\n",
       "      <td>6.495</td>\n",
       "      <td>18.4</td>\n",
       "      <td>5.4917</td>\n",
       "      <td>7.0</td>\n",
       "      <td>329.0</td>\n",
       "      <td>16.1</td>\n",
       "      <td>383.61</td>\n",
       "      <td>8.67</td>\n",
       "    </tr>\n",
       "    <tr>\n",
       "      <th>303</th>\n",
       "      <td>0.10000</td>\n",
       "      <td>34.0</td>\n",
       "      <td>6.09</td>\n",
       "      <td>0.0</td>\n",
       "      <td>0.433</td>\n",
       "      <td>6.982</td>\n",
       "      <td>17.7</td>\n",
       "      <td>5.4917</td>\n",
       "      <td>7.0</td>\n",
       "      <td>329.0</td>\n",
       "      <td>16.1</td>\n",
       "      <td>390.43</td>\n",
       "      <td>4.86</td>\n",
       "    </tr>\n",
       "    <tr>\n",
       "      <th>304</th>\n",
       "      <td>0.05515</td>\n",
       "      <td>33.0</td>\n",
       "      <td>2.18</td>\n",
       "      <td>0.0</td>\n",
       "      <td>0.472</td>\n",
       "      <td>7.236</td>\n",
       "      <td>41.1</td>\n",
       "      <td>4.0220</td>\n",
       "      <td>7.0</td>\n",
       "      <td>222.0</td>\n",
       "      <td>18.4</td>\n",
       "      <td>393.68</td>\n",
       "      <td>6.93</td>\n",
       "    </tr>\n",
       "    <tr>\n",
       "      <th>305</th>\n",
       "      <td>0.05479</td>\n",
       "      <td>33.0</td>\n",
       "      <td>2.18</td>\n",
       "      <td>0.0</td>\n",
       "      <td>0.472</td>\n",
       "      <td>6.616</td>\n",
       "      <td>58.1</td>\n",
       "      <td>3.3700</td>\n",
       "      <td>7.0</td>\n",
       "      <td>222.0</td>\n",
       "      <td>18.4</td>\n",
       "      <td>393.36</td>\n",
       "      <td>8.93</td>\n",
       "    </tr>\n",
       "  </tbody>\n",
       "</table>\n",
       "<p>306 rows × 13 columns</p>\n",
       "</div>"
      ]
     },
     "execution_count": 319,
     "metadata": {},
     "output_type": "execute_result"
    }
   ],
   "execution_count": 319
  },
  {
   "metadata": {
    "ExecuteTime": {
     "end_time": "2024-10-11T01:37:11.732225Z",
     "start_time": "2024-10-11T01:37:11.727435Z"
    }
   },
   "cell_type": "code",
   "source": [
    "house_train_y = pd.read_csv('./housing_dataset/housing_y_train.csv', header=None)\n",
    "house_train_y"
   ],
   "id": "dc77b685ae2f269f",
   "outputs": [
    {
     "data": {
      "text/plain": [
       "        0\n",
       "0    24.0\n",
       "1    21.6\n",
       "2    34.7\n",
       "3    33.4\n",
       "4    36.2\n",
       "..    ...\n",
       "301  22.0\n",
       "302  26.4\n",
       "303  33.1\n",
       "304  36.1\n",
       "305  28.4\n",
       "\n",
       "[306 rows x 1 columns]"
      ],
      "text/html": [
       "<div>\n",
       "<style scoped>\n",
       "    .dataframe tbody tr th:only-of-type {\n",
       "        vertical-align: middle;\n",
       "    }\n",
       "\n",
       "    .dataframe tbody tr th {\n",
       "        vertical-align: top;\n",
       "    }\n",
       "\n",
       "    .dataframe thead th {\n",
       "        text-align: right;\n",
       "    }\n",
       "</style>\n",
       "<table border=\"1\" class=\"dataframe\">\n",
       "  <thead>\n",
       "    <tr style=\"text-align: right;\">\n",
       "      <th></th>\n",
       "      <th>0</th>\n",
       "    </tr>\n",
       "  </thead>\n",
       "  <tbody>\n",
       "    <tr>\n",
       "      <th>0</th>\n",
       "      <td>24.0</td>\n",
       "    </tr>\n",
       "    <tr>\n",
       "      <th>1</th>\n",
       "      <td>21.6</td>\n",
       "    </tr>\n",
       "    <tr>\n",
       "      <th>2</th>\n",
       "      <td>34.7</td>\n",
       "    </tr>\n",
       "    <tr>\n",
       "      <th>3</th>\n",
       "      <td>33.4</td>\n",
       "    </tr>\n",
       "    <tr>\n",
       "      <th>4</th>\n",
       "      <td>36.2</td>\n",
       "    </tr>\n",
       "    <tr>\n",
       "      <th>...</th>\n",
       "      <td>...</td>\n",
       "    </tr>\n",
       "    <tr>\n",
       "      <th>301</th>\n",
       "      <td>22.0</td>\n",
       "    </tr>\n",
       "    <tr>\n",
       "      <th>302</th>\n",
       "      <td>26.4</td>\n",
       "    </tr>\n",
       "    <tr>\n",
       "      <th>303</th>\n",
       "      <td>33.1</td>\n",
       "    </tr>\n",
       "    <tr>\n",
       "      <th>304</th>\n",
       "      <td>36.1</td>\n",
       "    </tr>\n",
       "    <tr>\n",
       "      <th>305</th>\n",
       "      <td>28.4</td>\n",
       "    </tr>\n",
       "  </tbody>\n",
       "</table>\n",
       "<p>306 rows × 1 columns</p>\n",
       "</div>"
      ]
     },
     "execution_count": 320,
     "metadata": {},
     "output_type": "execute_result"
    }
   ],
   "execution_count": 320
  },
  {
   "metadata": {
    "ExecuteTime": {
     "end_time": "2024-10-11T01:37:11.792829Z",
     "start_time": "2024-10-11T01:37:11.782193Z"
    }
   },
   "cell_type": "code",
   "source": [
    "house_test_X = pd.read_csv('./housing_dataset/housing_X_test.csv', header=None).T\n",
    "house_test_X"
   ],
   "id": "90f78edd6574126a",
   "outputs": [
    {
     "data": {
      "text/plain": [
       "          0     1      2    3      4      5     6       7    8      9     10  \\\n",
       "0    0.07503  33.0   2.18  0.0  0.472  7.420  71.9  3.0992  7.0  222.0  18.4   \n",
       "1    0.04932  33.0   2.18  0.0  0.472  6.849  70.3  3.1827  7.0  222.0  18.4   \n",
       "2    0.49298   0.0   9.90  0.0  0.544  6.635  82.5  3.3175  4.0  304.0  18.4   \n",
       "3    0.34940   0.0   9.90  0.0  0.544  5.972  76.7  3.1025  4.0  304.0  18.4   \n",
       "4    2.63550   0.0   9.90  0.0  0.544  4.973  37.8  2.5194  4.0  304.0  18.4   \n",
       "..       ...   ...    ...  ...    ...    ...   ...     ...  ...    ...   ...   \n",
       "195  0.06263   0.0  11.93  0.0  0.573  6.593  69.1  2.4786  1.0  273.0  21.0   \n",
       "196  0.04527   0.0  11.93  0.0  0.573  6.120  76.7  2.2875  1.0  273.0  21.0   \n",
       "197  0.06076   0.0  11.93  0.0  0.573  6.976  91.0  2.1675  1.0  273.0  21.0   \n",
       "198  0.10959   0.0  11.93  0.0  0.573  6.794  89.3  2.3889  1.0  273.0  21.0   \n",
       "199  0.04741   0.0  11.93  0.0  0.573  6.030  80.8  2.5050  1.0  273.0  21.0   \n",
       "\n",
       "         11     12  \n",
       "0    396.90   6.47  \n",
       "1    396.90   7.53  \n",
       "2    396.90   4.54  \n",
       "3    396.24   9.97  \n",
       "4    350.45  12.64  \n",
       "..      ...    ...  \n",
       "195  391.99   9.67  \n",
       "196  396.90   9.08  \n",
       "197  396.90   5.64  \n",
       "198  393.45   6.48  \n",
       "199  396.90   7.88  \n",
       "\n",
       "[200 rows x 13 columns]"
      ],
      "text/html": [
       "<div>\n",
       "<style scoped>\n",
       "    .dataframe tbody tr th:only-of-type {\n",
       "        vertical-align: middle;\n",
       "    }\n",
       "\n",
       "    .dataframe tbody tr th {\n",
       "        vertical-align: top;\n",
       "    }\n",
       "\n",
       "    .dataframe thead th {\n",
       "        text-align: right;\n",
       "    }\n",
       "</style>\n",
       "<table border=\"1\" class=\"dataframe\">\n",
       "  <thead>\n",
       "    <tr style=\"text-align: right;\">\n",
       "      <th></th>\n",
       "      <th>0</th>\n",
       "      <th>1</th>\n",
       "      <th>2</th>\n",
       "      <th>3</th>\n",
       "      <th>4</th>\n",
       "      <th>5</th>\n",
       "      <th>6</th>\n",
       "      <th>7</th>\n",
       "      <th>8</th>\n",
       "      <th>9</th>\n",
       "      <th>10</th>\n",
       "      <th>11</th>\n",
       "      <th>12</th>\n",
       "    </tr>\n",
       "  </thead>\n",
       "  <tbody>\n",
       "    <tr>\n",
       "      <th>0</th>\n",
       "      <td>0.07503</td>\n",
       "      <td>33.0</td>\n",
       "      <td>2.18</td>\n",
       "      <td>0.0</td>\n",
       "      <td>0.472</td>\n",
       "      <td>7.420</td>\n",
       "      <td>71.9</td>\n",
       "      <td>3.0992</td>\n",
       "      <td>7.0</td>\n",
       "      <td>222.0</td>\n",
       "      <td>18.4</td>\n",
       "      <td>396.90</td>\n",
       "      <td>6.47</td>\n",
       "    </tr>\n",
       "    <tr>\n",
       "      <th>1</th>\n",
       "      <td>0.04932</td>\n",
       "      <td>33.0</td>\n",
       "      <td>2.18</td>\n",
       "      <td>0.0</td>\n",
       "      <td>0.472</td>\n",
       "      <td>6.849</td>\n",
       "      <td>70.3</td>\n",
       "      <td>3.1827</td>\n",
       "      <td>7.0</td>\n",
       "      <td>222.0</td>\n",
       "      <td>18.4</td>\n",
       "      <td>396.90</td>\n",
       "      <td>7.53</td>\n",
       "    </tr>\n",
       "    <tr>\n",
       "      <th>2</th>\n",
       "      <td>0.49298</td>\n",
       "      <td>0.0</td>\n",
       "      <td>9.90</td>\n",
       "      <td>0.0</td>\n",
       "      <td>0.544</td>\n",
       "      <td>6.635</td>\n",
       "      <td>82.5</td>\n",
       "      <td>3.3175</td>\n",
       "      <td>4.0</td>\n",
       "      <td>304.0</td>\n",
       "      <td>18.4</td>\n",
       "      <td>396.90</td>\n",
       "      <td>4.54</td>\n",
       "    </tr>\n",
       "    <tr>\n",
       "      <th>3</th>\n",
       "      <td>0.34940</td>\n",
       "      <td>0.0</td>\n",
       "      <td>9.90</td>\n",
       "      <td>0.0</td>\n",
       "      <td>0.544</td>\n",
       "      <td>5.972</td>\n",
       "      <td>76.7</td>\n",
       "      <td>3.1025</td>\n",
       "      <td>4.0</td>\n",
       "      <td>304.0</td>\n",
       "      <td>18.4</td>\n",
       "      <td>396.24</td>\n",
       "      <td>9.97</td>\n",
       "    </tr>\n",
       "    <tr>\n",
       "      <th>4</th>\n",
       "      <td>2.63550</td>\n",
       "      <td>0.0</td>\n",
       "      <td>9.90</td>\n",
       "      <td>0.0</td>\n",
       "      <td>0.544</td>\n",
       "      <td>4.973</td>\n",
       "      <td>37.8</td>\n",
       "      <td>2.5194</td>\n",
       "      <td>4.0</td>\n",
       "      <td>304.0</td>\n",
       "      <td>18.4</td>\n",
       "      <td>350.45</td>\n",
       "      <td>12.64</td>\n",
       "    </tr>\n",
       "    <tr>\n",
       "      <th>...</th>\n",
       "      <td>...</td>\n",
       "      <td>...</td>\n",
       "      <td>...</td>\n",
       "      <td>...</td>\n",
       "      <td>...</td>\n",
       "      <td>...</td>\n",
       "      <td>...</td>\n",
       "      <td>...</td>\n",
       "      <td>...</td>\n",
       "      <td>...</td>\n",
       "      <td>...</td>\n",
       "      <td>...</td>\n",
       "      <td>...</td>\n",
       "    </tr>\n",
       "    <tr>\n",
       "      <th>195</th>\n",
       "      <td>0.06263</td>\n",
       "      <td>0.0</td>\n",
       "      <td>11.93</td>\n",
       "      <td>0.0</td>\n",
       "      <td>0.573</td>\n",
       "      <td>6.593</td>\n",
       "      <td>69.1</td>\n",
       "      <td>2.4786</td>\n",
       "      <td>1.0</td>\n",
       "      <td>273.0</td>\n",
       "      <td>21.0</td>\n",
       "      <td>391.99</td>\n",
       "      <td>9.67</td>\n",
       "    </tr>\n",
       "    <tr>\n",
       "      <th>196</th>\n",
       "      <td>0.04527</td>\n",
       "      <td>0.0</td>\n",
       "      <td>11.93</td>\n",
       "      <td>0.0</td>\n",
       "      <td>0.573</td>\n",
       "      <td>6.120</td>\n",
       "      <td>76.7</td>\n",
       "      <td>2.2875</td>\n",
       "      <td>1.0</td>\n",
       "      <td>273.0</td>\n",
       "      <td>21.0</td>\n",
       "      <td>396.90</td>\n",
       "      <td>9.08</td>\n",
       "    </tr>\n",
       "    <tr>\n",
       "      <th>197</th>\n",
       "      <td>0.06076</td>\n",
       "      <td>0.0</td>\n",
       "      <td>11.93</td>\n",
       "      <td>0.0</td>\n",
       "      <td>0.573</td>\n",
       "      <td>6.976</td>\n",
       "      <td>91.0</td>\n",
       "      <td>2.1675</td>\n",
       "      <td>1.0</td>\n",
       "      <td>273.0</td>\n",
       "      <td>21.0</td>\n",
       "      <td>396.90</td>\n",
       "      <td>5.64</td>\n",
       "    </tr>\n",
       "    <tr>\n",
       "      <th>198</th>\n",
       "      <td>0.10959</td>\n",
       "      <td>0.0</td>\n",
       "      <td>11.93</td>\n",
       "      <td>0.0</td>\n",
       "      <td>0.573</td>\n",
       "      <td>6.794</td>\n",
       "      <td>89.3</td>\n",
       "      <td>2.3889</td>\n",
       "      <td>1.0</td>\n",
       "      <td>273.0</td>\n",
       "      <td>21.0</td>\n",
       "      <td>393.45</td>\n",
       "      <td>6.48</td>\n",
       "    </tr>\n",
       "    <tr>\n",
       "      <th>199</th>\n",
       "      <td>0.04741</td>\n",
       "      <td>0.0</td>\n",
       "      <td>11.93</td>\n",
       "      <td>0.0</td>\n",
       "      <td>0.573</td>\n",
       "      <td>6.030</td>\n",
       "      <td>80.8</td>\n",
       "      <td>2.5050</td>\n",
       "      <td>1.0</td>\n",
       "      <td>273.0</td>\n",
       "      <td>21.0</td>\n",
       "      <td>396.90</td>\n",
       "      <td>7.88</td>\n",
       "    </tr>\n",
       "  </tbody>\n",
       "</table>\n",
       "<p>200 rows × 13 columns</p>\n",
       "</div>"
      ]
     },
     "execution_count": 321,
     "metadata": {},
     "output_type": "execute_result"
    }
   ],
   "execution_count": 321
  },
  {
   "metadata": {
    "ExecuteTime": {
     "end_time": "2024-10-11T01:37:11.855060Z",
     "start_time": "2024-10-11T01:37:11.850648Z"
    }
   },
   "cell_type": "code",
   "source": [
    "house_test_y = pd.read_csv('./housing_dataset/housing_y_test.csv', header=None)\n",
    "house_test_y"
   ],
   "id": "2730fc6d255d0c46",
   "outputs": [
    {
     "data": {
      "text/plain": [
       "        0\n",
       "0    33.4\n",
       "1    28.2\n",
       "2    22.8\n",
       "3    20.3\n",
       "4    16.1\n",
       "..    ...\n",
       "195  22.4\n",
       "196  20.6\n",
       "197  23.9\n",
       "198  22.0\n",
       "199  11.9\n",
       "\n",
       "[200 rows x 1 columns]"
      ],
      "text/html": [
       "<div>\n",
       "<style scoped>\n",
       "    .dataframe tbody tr th:only-of-type {\n",
       "        vertical-align: middle;\n",
       "    }\n",
       "\n",
       "    .dataframe tbody tr th {\n",
       "        vertical-align: top;\n",
       "    }\n",
       "\n",
       "    .dataframe thead th {\n",
       "        text-align: right;\n",
       "    }\n",
       "</style>\n",
       "<table border=\"1\" class=\"dataframe\">\n",
       "  <thead>\n",
       "    <tr style=\"text-align: right;\">\n",
       "      <th></th>\n",
       "      <th>0</th>\n",
       "    </tr>\n",
       "  </thead>\n",
       "  <tbody>\n",
       "    <tr>\n",
       "      <th>0</th>\n",
       "      <td>33.4</td>\n",
       "    </tr>\n",
       "    <tr>\n",
       "      <th>1</th>\n",
       "      <td>28.2</td>\n",
       "    </tr>\n",
       "    <tr>\n",
       "      <th>2</th>\n",
       "      <td>22.8</td>\n",
       "    </tr>\n",
       "    <tr>\n",
       "      <th>3</th>\n",
       "      <td>20.3</td>\n",
       "    </tr>\n",
       "    <tr>\n",
       "      <th>4</th>\n",
       "      <td>16.1</td>\n",
       "    </tr>\n",
       "    <tr>\n",
       "      <th>...</th>\n",
       "      <td>...</td>\n",
       "    </tr>\n",
       "    <tr>\n",
       "      <th>195</th>\n",
       "      <td>22.4</td>\n",
       "    </tr>\n",
       "    <tr>\n",
       "      <th>196</th>\n",
       "      <td>20.6</td>\n",
       "    </tr>\n",
       "    <tr>\n",
       "      <th>197</th>\n",
       "      <td>23.9</td>\n",
       "    </tr>\n",
       "    <tr>\n",
       "      <th>198</th>\n",
       "      <td>22.0</td>\n",
       "    </tr>\n",
       "    <tr>\n",
       "      <th>199</th>\n",
       "      <td>11.9</td>\n",
       "    </tr>\n",
       "  </tbody>\n",
       "</table>\n",
       "<p>200 rows × 1 columns</p>\n",
       "</div>"
      ]
     },
     "execution_count": 322,
     "metadata": {},
     "output_type": "execute_result"
    }
   ],
   "execution_count": 322
  },
  {
   "metadata": {
    "ExecuteTime": {
     "end_time": "2024-10-11T01:37:11.930863Z",
     "start_time": "2024-10-11T01:37:11.928921Z"
    }
   },
   "cell_type": "code",
   "source": [
    "def normalize(X_train, X_test):\n",
    "    mean = X_train.mean(axis=0)\n",
    "    std = X_train.std(axis=0)\n",
    "    X_train_norm = (X_train - mean) / std\n",
    "    X_test_norm = (X_test - mean) / std\n",
    "    return X_train_norm, X_test_norm"
   ],
   "id": "86d0d24dc3078fdd",
   "outputs": [],
   "execution_count": 323
  },
  {
   "metadata": {},
   "cell_type": "markdown",
   "source": "### Step 2: Ridge Regression Closed-Form Solution",
   "id": "e262b7157810fcd8"
  },
  {
   "metadata": {},
   "cell_type": "markdown",
   "source": [
    "The closed-form solution for Ridge Regression is:\n",
    "\n",
    "\n",
    "$w_{\\text{closed-form}} = (X^TX + \\lambda I_d)^{-1} X^T y$\n",
    "\n",
    "\n",
    "Where:\n",
    "- X  is the design matrix of features.\n",
    "- is the target vector.\n",
    "- $\\lambda$  is the regularization parameter.\n",
    "- is the identity matrix of dimension  $d \\times d$  (where  d  is the number of features).\n",
    "\n",
    "Implementation of Ridge Regression using the Closed-Form Solution:"
   ],
   "id": "bab156db9f628cdf"
  },
  {
   "metadata": {
    "ExecuteTime": {
     "end_time": "2024-10-11T01:37:11.988326Z",
     "start_time": "2024-10-11T01:37:11.986244Z"
    }
   },
   "cell_type": "code",
   "source": [
    "def ridge_regression_closed_form(X_train, y_train, lambd):\n",
    "    n, d = X_train.shape\n",
    "    I = np.eye(d) \n",
    "    w = np.linalg.inv(X_train.T @ X_train + lambd * I) @ X_train.T @ y_train\n",
    "    return w\n",
    "\n",
    "def compute_MeanSquaredError(X, y, w):\n",
    "    predictions = X @ w\n",
    "    error = np.mean((predictions - y) ** 2)\n",
    "    return error"
   ],
   "id": "9ff10cda40a2af80",
   "outputs": [],
   "execution_count": 324
  },
  {
   "metadata": {},
   "cell_type": "markdown",
   "source": "### Step 3: Train and Test the Model\n",
   "id": "652208bf0b892809"
  },
  {
   "metadata": {
    "ExecuteTime": {
     "end_time": "2024-10-11T01:37:12.021585Z",
     "start_time": "2024-10-11T01:37:12.019543Z"
    }
   },
   "cell_type": "code",
   "source": [
    "class InfoHolder:\n",
    "    def __init__(self, l, wei, tr_e, te_e):\n",
    "        self.lambd = l\n",
    "        self.w = wei\n",
    "        self.train_error = tr_e\n",
    "        self.test_error = te_e"
   ],
   "id": "6ee846417f27a368",
   "outputs": [],
   "execution_count": 325
  },
  {
   "metadata": {
    "ExecuteTime": {
     "end_time": "2024-10-11T01:37:12.055205Z",
     "start_time": "2024-10-11T01:37:12.047015Z"
    }
   },
   "cell_type": "code",
   "source": [
    "house_train_y = house_train_y\n",
    "house_test_y = house_test_y\n",
    "\n",
    "# X_train_norm, X_test_norm = normalize(house_train_X, house_test_X)\n",
    "X_train_norm = sklearn.preprocessing.normalize(house_train_X)\n",
    "X_test_norm = sklearn.preprocessing.normalize(house_test_X)\n",
    "# X_train_norm, X_test_norm = house_train_X, house_test_X\n",
    "lambdas = [0, 0.25, 0.5, 0.75, 1]\n",
    "ridge_CF_holder = []\n",
    "for lambd in lambdas:\n",
    "    w = ridge_regression_closed_form(X_train_norm, house_train_y, lambd)\n",
    "    train_error = compute_MeanSquaredError(X_train_norm, house_train_y, w)\n",
    "    test_error = compute_MeanSquaredError(X_test_norm, house_test_y, w)\n",
    "    ridge_CF_holder.append(InfoHolder(lambd, w, train_error, test_error))\n",
    "    \n",
    "    print(f\"Lambda: {lambd}\")\n",
    "    print(f\"Training Error (MSE): {train_error}\")\n",
    "    print(f\"Test Error (MSE): {test_error}\")\n",
    "    print()"
   ],
   "id": "6dc99bfdf2127424",
   "outputs": [
    {
     "name": "stdout",
     "output_type": "stream",
     "text": [
      "Lambda: 0\n",
      "Training Error (MSE): 10.931713657805608\n",
      "Test Error (MSE): 240.08953928963987\n",
      "\n",
      "Lambda: 0.25\n",
      "Training Error (MSE): 57.14479934075605\n",
      "Test Error (MSE): 60.83880996185464\n",
      "\n",
      "Lambda: 0.5\n",
      "Training Error (MSE): 60.45873676838283\n",
      "Test Error (MSE): 61.6437113818854\n",
      "\n",
      "Lambda: 0.75\n",
      "Training Error (MSE): 61.99062623881368\n",
      "Test Error (MSE): 61.5480807365128\n",
      "\n",
      "Lambda: 1\n",
      "Training Error (MSE): 62.97982206768707\n",
      "Test Error (MSE): 61.22727981808377\n",
      "\n"
     ]
    }
   ],
   "execution_count": 326
  },
  {
   "metadata": {},
   "cell_type": "markdown",
   "source": "## Question 3",
   "id": "70335b25afebf3e"
  },
  {
   "metadata": {},
   "cell_type": "markdown",
   "source": [
    "solve Ridge regression using the gradient descent algorithm\n",
    "\n",
    "Gradient of the Ridge Loss Function\n",
    "\n",
    "The gradient of the Ridge objective function with respect to  w  is:\n",
    "\n",
    "\n",
    "$\\nabla L(w) = \\frac{1}{n} X^T (Xw - y) + 2 \\lambda w$\n",
    "\n",
    "With update of:\n",
    "\n",
    "\n",
    "$w \\leftarrow w - \\eta \\nabla L(w)$\n",
    "\n",
    "\n"
   ],
   "id": "9decbafc5c077373"
  },
  {
   "metadata": {
    "ExecuteTime": {
     "end_time": "2024-10-11T01:37:12.085650Z",
     "start_time": "2024-10-11T01:37:12.076372Z"
    }
   },
   "cell_type": "code",
   "source": [
    "house_train_X = pd.read_csv('./housing_dataset/housing_X_train.csv', header=None).T\n",
    "house_train_y = pd.read_csv('./housing_dataset/housing_y_train.csv', header=None)\n",
    "house_test_X = pd.read_csv('./housing_dataset/housing_X_test.csv', header=None).T\n",
    "house_test_y = pd.read_csv('./housing_dataset/housing_y_test.csv', header=None)"
   ],
   "id": "b4b292018bf0d5b",
   "outputs": [],
   "execution_count": 327
  },
  {
   "metadata": {
    "ExecuteTime": {
     "end_time": "2024-10-11T01:37:12.101269Z",
     "start_time": "2024-10-11T01:37:12.098524Z"
    }
   },
   "cell_type": "code",
   "source": [
    "def ridge_regression_gradient_descent(X, y, lambd, learning_rate=0.01, epochs=1000):\n",
    "    X = np.array(X)\n",
    "    y = np.array(y).reshape(-1)\n",
    "    n, d = X.shape\n",
    "    w = np.zeros(d)  \n",
    "    for epoch in range(epochs):\n",
    "        gradient = (1 / n) * (X.T @ (X @ w - y)) + 2 * lambd * w\n",
    "        np.clip(gradient, -10, 10, out=gradient) \n",
    "        w = w - learning_rate * gradient\n",
    "    return w\n",
    "\n",
    "def compute_MeanSquaredError_GD(X, y, w):\n",
    "    X = np.array(X)\n",
    "    y = np.array(y).reshape(-1)\n",
    "    predictions = X @ w\n",
    "    error = np.mean((predictions - y) ** 2)\n",
    "    return error"
   ],
   "id": "b45bd6213fb6144",
   "outputs": [],
   "execution_count": 328
  },
  {
   "metadata": {
    "ExecuteTime": {
     "end_time": "2024-10-11T01:37:12.166215Z",
     "start_time": "2024-10-11T01:37:12.113933Z"
    }
   },
   "cell_type": "code",
   "source": [
    "house_train_y = house_train_y\n",
    "house_test_y = house_test_y\n",
    "\n",
    "# X_train_norm, X_test_norm = normalize(house_train_X, house_test_X)\n",
    "X_train_norm = sklearn.preprocessing.normalize(house_train_X)\n",
    "X_test_norm = sklearn.preprocessing.normalize(house_test_X)\n",
    "# X_train_norm, X_test_norm = house_train_X, house_test_X\n",
    "lambdas = [0, 0.25, 0.5, 0.75, 1]\n",
    "\n",
    "ridge_GD_holder = []\n",
    "\n",
    "for lambd in lambdas:\n",
    "    w_gd = ridge_regression_gradient_descent(X_train_norm, house_train_y, lambd, learning_rate=0.01, epochs=1000)\n",
    "    train_error = compute_MeanSquaredError_GD(X_train_norm, house_train_y, w_gd)\n",
    "    test_error = compute_MeanSquaredError_GD(X_test_norm, house_test_y, w_gd)\n",
    "    ridge_GD_holder.append(InfoHolder(lambd, w_gd, train_error, test_error))\n",
    "    \n",
    "    print(f\"Lambda: {lambd}\")\n",
    "    print(f\"Training Error (MSE): {train_error}\")\n",
    "    print(f\"Test Error (MSE): {test_error}\")\n",
    "    print()"
   ],
   "id": "7f0f975ccba54cd4",
   "outputs": [
    {
     "name": "stdout",
     "output_type": "stream",
     "text": [
      "Lambda: 0\n",
      "Training Error (MSE): 74.8077931010119\n",
      "Test Error (MSE): 74.38365211949478\n",
      "\n",
      "Lambda: 0.25\n",
      "Training Error (MSE): 151.46524044642152\n",
      "Test Error (MSE): 58.939651514248766\n",
      "\n",
      "Lambda: 0.5\n",
      "Training Error (MSE): 244.2179902952785\n",
      "Test Error (MSE): 95.00553242759284\n",
      "\n",
      "Lambda: 0.75\n",
      "Training Error (MSE): 316.8091066596825\n",
      "Test Error (MSE): 131.01516762318494\n",
      "\n",
      "Lambda: 1\n",
      "Training Error (MSE): 372.1542385841536\n",
      "Test Error (MSE): 160.97574673857798\n",
      "\n"
     ]
    }
   ],
   "execution_count": 329
  },
  {
   "metadata": {},
   "cell_type": "markdown",
   "source": "## Question 4 \n",
   "id": "6d98ecda81f200b1"
  },
  {
   "metadata": {},
   "cell_type": "markdown",
   "source": [
    "Solve Lasso regression using gradient descent algorithm\n",
    "Lasso regression minimizes the following objective function:\n",
    "\n",
    "\n",
    "$L(w) = \\frac{1}{2n} \\sum_{i=1}^{n} (X_i w - y_i)^2 + \\lambda \\| w \\|_1$\n",
    "\n",
    "Gradient for Lasso Regression\n",
    "\n",
    "The gradient of the Lasso objective function is:\n",
    "\n",
    "\n",
    "$\\nabla L(w) = \\frac{1}{n} X^T (Xw - y) + \\lambda \\text{ sign}(w)$\n",
    "\n",
    "\n",
    "Where  $sign(w)$  is the sign function applied element-wise:\n",
    "\n",
    "- sign(w_i) = 1  if  w_i > 0 \n",
    "- sign(w_i) = -1  if  w_i < 0 \n",
    "- sign(w_i) = 0  if  w_i = 0 "
   ],
   "id": "c1c16d38f79f51f0"
  },
  {
   "metadata": {
    "ExecuteTime": {
     "end_time": "2024-10-11T01:37:12.187477Z",
     "start_time": "2024-10-11T01:37:12.179525Z"
    }
   },
   "cell_type": "code",
   "source": [
    "house_train_X = pd.read_csv('./housing_dataset/housing_X_train.csv', header=None).T\n",
    "house_train_y = pd.read_csv('./housing_dataset/housing_y_train.csv', header=None)\n",
    "house_test_X = pd.read_csv('./housing_dataset/housing_X_test.csv', header=None).T\n",
    "house_test_y = pd.read_csv('./housing_dataset/housing_y_test.csv', header=None)"
   ],
   "id": "51fd24862debc1bf",
   "outputs": [],
   "execution_count": 330
  },
  {
   "metadata": {
    "ExecuteTime": {
     "end_time": "2024-10-11T01:37:12.202998Z",
     "start_time": "2024-10-11T01:37:12.200129Z"
    }
   },
   "cell_type": "code",
   "source": [
    "def lasso_regression_gradient_descent(X, y, lambd, learning_rate=0.01, epochs=1000):\n",
    "    X = np.array(X)\n",
    "    y = np.array(y).reshape(-1)\n",
    "    n, d = X.shape\n",
    "    w = np.zeros(d)  \n",
    "    for epoch in range(epochs):\n",
    "        gradient = (1/n) * (X.T @ (X @ w - y)) + lambd * np.sign(w)\n",
    "        np.clip(gradient, -10, 10, out=gradient)  \n",
    "        w = w - learning_rate * gradient\n",
    "    return w\n",
    "\n",
    "def compute_MeanSquaredError_GD(X, y, w):\n",
    "    X = np.array(X)\n",
    "    y = np.array(y).reshape(-1)\n",
    "    predictions = X @ w\n",
    "    error = np.mean((predictions - y) ** 2)\n",
    "    return error"
   ],
   "id": "5efb582d66483295",
   "outputs": [],
   "execution_count": 331
  },
  {
   "metadata": {
    "ExecuteTime": {
     "end_time": "2024-10-11T01:37:12.263589Z",
     "start_time": "2024-10-11T01:37:12.214146Z"
    }
   },
   "cell_type": "code",
   "source": [
    "house_train_y = house_train_y\n",
    "house_test_y = house_test_y\n",
    "\n",
    "# X_train_norm, X_test_norm = normalize(house_train_X, house_test_X)\n",
    "X_train_norm = sklearn.preprocessing.normalize(house_train_X)\n",
    "X_test_norm = sklearn.preprocessing.normalize(house_test_X)\n",
    "# X_train_norm, X_test_norm = house_train_X, house_test_X\n",
    "lambdas = [0, 0.25, 0.5, 0.75, 1]\n",
    "\n",
    "lasso_GD_holder = []\n",
    "\n",
    "for lambd in lambdas:\n",
    "    w_lasso = lasso_regression_gradient_descent(X_train_norm, house_train_y, lambd, learning_rate=0.01, epochs=1000)\n",
    "    train_error = compute_MeanSquaredError_GD(X_train_norm, house_train_y, w_lasso)\n",
    "    test_error = compute_MeanSquaredError_GD(X_test_norm, house_test_y, w_lasso)\n",
    "    lasso_GD_holder.append(InfoHolder(lambd, w_lasso, train_error, test_error))\n",
    "    \n",
    "    print(f\"Lambda: {lambd}\")\n",
    "    print(f\"Training Error (MSE): {train_error}\")\n",
    "    print(f\"Test Error (MSE): {test_error}\")\n",
    "    print()"
   ],
   "id": "2a0452e10fa24efa",
   "outputs": [
    {
     "name": "stdout",
     "output_type": "stream",
     "text": [
      "Lambda: 0\n",
      "Training Error (MSE): 74.8077931010119\n",
      "Test Error (MSE): 74.38365211949478\n",
      "\n",
      "Lambda: 0.25\n",
      "Training Error (MSE): 74.96484309673673\n",
      "Test Error (MSE): 70.55654656048087\n",
      "\n",
      "Lambda: 0.5\n",
      "Training Error (MSE): 75.03453199881287\n",
      "Test Error (MSE): 67.1639208484864\n",
      "\n",
      "Lambda: 0.75\n",
      "Training Error (MSE): 75.46520237176637\n",
      "Test Error (MSE): 63.82140402041553\n",
      "\n",
      "Lambda: 1\n",
      "Training Error (MSE): 76.15974158230705\n",
      "Test Error (MSE): 60.85047024810788\n",
      "\n"
     ]
    }
   ],
   "execution_count": 332
  },
  {
   "metadata": {},
   "cell_type": "markdown",
   "source": "## Question 5",
   "id": "284b8ea7e6ad28da"
  },
  {
   "metadata": {},
   "cell_type": "markdown",
   "source": "Do you think gradient descent is better than the closed form solution of Ridge regression?",
   "id": "c9656a659f705029"
  },
  {
   "metadata": {},
   "cell_type": "markdown",
   "source": [
    "In this part, I will compare the performance of Ridge Regression using both Gradient Descent (GD) and the Closed-Form (CF) solution, along with Lasso Regression using Gradient Descent.\n",
    "\n",
    "Key Differences:\n",
    "\n",
    "- Ridge (Closed-Form): The closed-form solution gives the exact optimal solution for Ridge regression in one step. It is computationally efficient for smaller datasets, but it becomes impractical for larger datasets due to matrix inversion.\n",
    "- Ridge (GD): The gradient descent method iteratively minimizes the cost function, updating the weights over multiple iterations. This method is slower than the closed-form solution for small datasets but is more scalable and flexible, especially for larger datasets. It also allows us to control the learning rate and number of epochs, making it suitable for online learning or streaming data.\n",
    "- Lasso (GD): Since Lasso does not have a closed-form solution, I implemented it using gradient descent. Lasso introduces sparsity by penalizing the L1 norm, which sets some of the coefficients to exactly zero, making it a good choice for feature selection."
   ],
   "id": "81f7239930b653c1"
  },
  {
   "metadata": {},
   "cell_type": "markdown",
   "source": "",
   "id": "6ec1cfe5a9b0d949"
  },
  {
   "metadata": {
    "ExecuteTime": {
     "end_time": "2024-10-11T01:37:12.633622Z",
     "start_time": "2024-10-11T01:37:12.280160Z"
    }
   },
   "cell_type": "code",
   "source": [
    "# # Generate synthetic data for testing\n",
    "# np.random.seed(42)\n",
    "# n_samples, n_features = 100, 5\n",
    "# house_train_X = np.random.rand(n_samples, n_features)\n",
    "# house_test_X = np.random.rand(n_samples, n_features)\n",
    "# house_train_y = np.random.rand(n_samples)\n",
    "# house_test_y = np.random.rand(n_samples)\n",
    "\n",
    "lambdas = [0.01, 0.1, 1, 10]\n",
    "learning_rate = 0.01\n",
    "epochs = 1000\n",
    "\n",
    "ridge_gd_errors_train = []\n",
    "ridge_gd_errors_test = []\n",
    "ridge_cf_errors_train = []\n",
    "ridge_cf_errors_test = []\n",
    "lasso_errors_train = []\n",
    "lasso_errors_test = []\n",
    "\n",
    "for lambd in lambdas:\n",
    "    # Ridge (Gradient Descent)\n",
    "    w_ridge_gd = ridge_regression_gradient_descent(house_train_X, house_train_y, lambd, learning_rate, epochs)\n",
    "    ridge_gd_errors_train.append(compute_MeanSquaredError_GD(house_train_X, house_train_y, w_ridge_gd))\n",
    "    ridge_gd_errors_test.append(compute_MeanSquaredError_GD(house_test_X, house_test_y, w_ridge_gd))\n",
    "\n",
    "    # Ridge (Closed-Form)\n",
    "    w_ridge_cf = ridge_regression_closed_form(house_train_X, house_train_y, lambd)\n",
    "    ridge_cf_errors_train.append(compute_MeanSquaredError(house_train_X, house_train_y, w_ridge_cf))\n",
    "    ridge_cf_errors_test.append(compute_MeanSquaredError(house_test_X, house_test_y, w_ridge_cf))\n",
    "\n",
    "    # Lasso (Gradient Descent)\n",
    "    w_lasso = lasso_regression_gradient_descent(house_train_X, house_train_y, lambd, learning_rate, epochs)\n",
    "    lasso_errors_train.append(compute_MeanSquaredError_GD(house_train_X, house_train_y, w_lasso))\n",
    "    lasso_errors_test.append(compute_MeanSquaredError_GD(house_test_X, house_test_y, w_lasso))\n",
    "\n",
    "plt.figure(figsize=(12, 8))\n",
    "\n",
    "plt.plot(lambdas, ridge_gd_errors_train, label='Ridge GD (Test)', marker='o')\n",
    "plt.plot(lambdas, ridge_gd_errors_test, label='Ridge GD (Train)', marker='o')\n",
    "\n",
    "plt.plot(lambdas, ridge_cf_errors_train, label='Ridge CF (Train)', marker='s')\n",
    "plt.plot(lambdas, ridge_cf_errors_test, label='Ridge CF (Test)', marker='s')\n",
    "\n",
    "plt.plot(lambdas, lasso_errors_train, label='Lasso GD (Test)', marker='^')\n",
    "plt.plot(lambdas, lasso_errors_test, label='Lasso GD (Train)', marker='^')\n",
    "\n",
    "plt.xscale('log')\n",
    "plt.xlabel('Lambda (log scale)')\n",
    "plt.ylabel('Mean Squared Error')\n",
    "plt.title('Training and Test Errors for Ridge (GD and CF) and Lasso (GD)')\n",
    "plt.legend()\n",
    "plt.grid(True)\n",
    "plt.show()\n",
    "\n",
    "plt.figure(figsize=(12, 8))"
   ],
   "id": "ed0f25ef73833468",
   "outputs": [
    {
     "data": {
      "text/plain": [
       "<Figure size 1200x800 with 1 Axes>"
      ],
      "image/png": "[encoded data removed]"
     },
     "metadata": {},
     "output_type": "display_data"
    },
    {
     "data": {
      "text/plain": [
       "<Figure size 1200x800 with 0 Axes>"
      ]
     },
     "execution_count": 333,
     "metadata": {},
     "output_type": "execute_result"
    },
    {
     "data": {
      "text/plain": [
       "<Figure size 1200x800 with 0 Axes>"
      ]
     },
     "metadata": {},
     "output_type": "display_data"
    }
   ],
   "execution_count": 333
  },
  {
   "metadata": {},
   "cell_type": "markdown",
   "source": "## Question 6",
   "id": "595c69d5d67dc799"
  },
  {
   "metadata": {},
   "cell_type": "markdown",
   "source": "Can you explain how the Lasso and Ridge regression algorithms affected the $\\theta$ values?\n",
   "id": "ed2ffa9045e2a8de"
  },
  {
   "metadata": {},
   "cell_type": "markdown",
   "source": [
    "- Ridge regression results in smaller $\\theta$ values compared to standard linear regression but none of the values will be exactly zero.\n",
    "- Lasso regression can shrink some $\\theta$ values to zero, meaning it’s capable of performing feature selection.\n",
    "- This difference is because Ridge applies $\\ell_2$ regularization, which generally reduces the magnitude of $\\theta$ values, whereas Lasso uses $\\ell_1$ regularization, which can completely eliminate some features by setting their corresponding \\theta values to zero."
   ],
   "id": "2d1ecf1ac648279d"
  },
  {
   "metadata": {},
   "cell_type": "markdown",
   "source": "# Exercise 2: Decision Trees Implementation",
   "id": "eb38b50b070bcfee"
  },
  {
   "metadata": {},
   "cell_type": "markdown",
   "source": "## Question 1",
   "id": "9bc1fe7b5b4b0c7f"
  },
  {
   "metadata": {},
   "cell_type": "markdown",
   "source": "### Step 1. Loss Functions",
   "id": "56c851174cdcdc5f"
  },
  {
   "metadata": {},
   "cell_type": "markdown",
   "source": [
    "Misclassification Error:\n",
    "\n",
    "\\$text{misclassification\\_loss}(y) = \\min(\\hat{p}, 1 - \\hat{p})$\n",
    "\n",
    "Gini Coefficient:\n",
    "\n",
    "$\\text{gini}(y) = \\hat{p}(1 - \\hat{p})$\n",
    "\n",
    "Entropy:\n",
    "\n",
    "$\\text{entropy}(y) = -\\hat{p} \\log_2(\\hat{p}) - (1 - \\hat{p}) \\log_2(1 - \\hat{p})$\n"
   ],
   "id": "1867153d88309f4c"
  },
  {
   "metadata": {
    "ExecuteTime": {
     "end_time": "2024-10-11T01:37:12.793617Z",
     "start_time": "2024-10-11T01:37:12.791085Z"
    }
   },
   "cell_type": "code",
   "source": [
    "def misclassification_loss(y):\n",
    "    p = np.mean(y)\n",
    "    return min(p, 1 - p)\n",
    "\n",
    "def gini(y):\n",
    "    p = np.mean(y)\n",
    "    return p * (1 - p)\n",
    "\n",
    "def entropy(y):\n",
    "    p = np.mean(y)\n",
    "    if p == 0 or p == 1:\n",
    "        return 0\n",
    "    return -p * np.log2(p) - (1 - p) * np.log2(1 - p)"
   ],
   "id": "24bc604c2ceb4844",
   "outputs": [],
   "execution_count": 334
  },
  {
   "metadata": {},
   "cell_type": "markdown",
   "source": "### step 2. Splitting",
   "id": "8389bd2e4a48fa57"
  },
  {
   "metadata": {},
   "cell_type": "markdown",
   "source": "Given a feature  i  and a threshold  j , we split the dataset into left and right parts based on the condition  $x[i] \\leq j$ .",
   "id": "510b6beb94147703"
  },
  {
   "metadata": {
    "ExecuteTime": {
     "end_time": "2024-10-11T01:37:12.812809Z",
     "start_time": "2024-10-11T01:37:12.810754Z"
    }
   },
   "cell_type": "code",
   "source": [
    "def split(X, y, feature_index, threshold):\n",
    "    left_mask = X[:, feature_index] <= threshold\n",
    "    right_mask = X[:, feature_index] > threshold\n",
    "    return X[left_mask], X[right_mask], y[left_mask], y[right_mask]"
   ],
   "id": "973abfbf0e0ad8b6",
   "outputs": [],
   "execution_count": 335
  },
  {
   "metadata": {},
   "cell_type": "markdown",
   "source": "### Step 3: Calculate the Split Loss\n",
   "id": "6b12cadbfa227407"
  },
  {
   "metadata": {},
   "cell_type": "markdown",
   "source": "For each possible feature and threshold, we calculate the weighted loss:",
   "id": "ae7a21105553e4fe"
  },
  {
   "metadata": {
    "ExecuteTime": {
     "end_time": "2024-10-11T01:37:12.827939Z",
     "start_time": "2024-10-11T01:37:12.825727Z"
    }
   },
   "cell_type": "code",
   "source": [
    "def weighted_loss(X, y, feature_index, threshold, loss_func):\n",
    "    X_L, X_R, y_L, y_R = split(X, y, feature_index, threshold)\n",
    "    if len(y_L) == 0 or len(y_R) == 0:\n",
    "        return float('inf')  \n",
    "\n",
    "    p_L = len(y_L) / len(y)\n",
    "    p_R = len(y_R) / len(y)\n",
    "    \n",
    "    return p_L * loss_func(y_L) + p_R * loss_func(y_R)"
   ],
   "id": "82ec28aef3e4a245",
   "outputs": [],
   "execution_count": 336
  },
  {
   "metadata": {},
   "cell_type": "markdown",
   "source": "### Step 4: Finding the Best Split\n",
   "id": "f733973f5034569c"
  },
  {
   "metadata": {},
   "cell_type": "markdown",
   "source": "For each feature and each threshold, we are computing the loss and finding the one that minimizes the loss.",
   "id": "9322973fac33bfff"
  },
  {
   "metadata": {
    "ExecuteTime": {
     "end_time": "2024-10-11T01:37:12.842222Z",
     "start_time": "2024-10-11T01:37:12.839786Z"
    }
   },
   "cell_type": "code",
   "source": [
    "def best_split(X, y, loss_func):\n",
    "    best_feature, best_threshold, min_loss = None, None, float('inf')\n",
    "\n",
    "    for feature_index in range(X.shape[1]):\n",
    "        thresholds = np.unique(X[:, feature_index])\n",
    "        for threshold in thresholds:\n",
    "            loss = weighted_loss(X, y, feature_index, threshold, loss_func)\n",
    "            if loss < min_loss:\n",
    "                min_loss = loss\n",
    "                best_feature = feature_index\n",
    "                best_threshold = threshold\n",
    "\n",
    "    return best_feature, best_threshold"
   ],
   "id": "7d9afda719436156",
   "outputs": [],
   "execution_count": 337
  },
  {
   "metadata": {},
   "cell_type": "markdown",
   "source": "### Step 5: Recursive Tree Building\n",
   "id": "6a7f81ab34285bdb"
  },
  {
   "metadata": {},
   "cell_type": "markdown",
   "source": "we will recursively build the decision tree by finding the best split at each node. Stop splitting if the node is pure or if the maximum depth is reached.",
   "id": "74c7cf06afa964d5"
  },
  {
   "metadata": {
    "ExecuteTime": {
     "end_time": "2024-10-11T01:37:12.857656Z",
     "start_time": "2024-10-11T01:37:12.854451Z"
    }
   },
   "cell_type": "code",
   "source": [
    "class DecisionTree:\n",
    "    def __init__(self, max_depth, loss_func):\n",
    "        self.max_depth = max_depth\n",
    "        self.loss_func = loss_func\n",
    "        self.tree = None\n",
    "\n",
    "    def build_tree(self, X, y, depth):\n",
    "        if len(np.unique(y)) == 1 or depth >= self.max_depth:\n",
    "            return np.mean(y)  \n",
    "\n",
    "        best_feature, best_threshold = best_split(X, y, self.loss_func)\n",
    "\n",
    "        if best_feature is None:\n",
    "            return np.mean(y)  \n",
    "\n",
    "        X_L, X_R, y_L, y_R = split(X, y, best_feature, best_threshold)\n",
    "        left_subtree = self.build_tree(X_L, y_L, depth + 1)\n",
    "        right_subtree = self.build_tree(X_R, y_R, depth + 1)\n",
    "\n",
    "        return {\"feature\": best_feature, \"threshold\": best_threshold, \n",
    "                \"left\": left_subtree, \"right\": right_subtree}\n",
    "\n",
    "    def fit(self, X, y):\n",
    "        self.tree = self.build_tree(X, y, 0)\n",
    "\n",
    "    def predict_one(self, x, node):\n",
    "        if isinstance(node, dict):\n",
    "            if x[node[\"feature\"]] <= node[\"threshold\"]:\n",
    "                return self.predict_one(x, node[\"left\"])\n",
    "            else:\n",
    "                return self.predict_one(x, node[\"right\"])\n",
    "        else:\n",
    "            return node  \n",
    "\n",
    "    def predict(self, X):\n",
    "        return np.array([self.predict_one(x, self.tree) for x in X])"
   ],
   "id": "a9696468e9362e74",
   "outputs": [],
   "execution_count": 338
  },
  {
   "metadata": {},
   "cell_type": "markdown",
   "source": "### Step 6: Training and Testing the Model\n",
   "id": "c5c64d00d822be7c"
  },
  {
   "metadata": {
    "ExecuteTime": {
     "end_time": "2024-10-11T01:37:12.872662Z",
     "start_time": "2024-10-11T01:37:12.870106Z"
    }
   },
   "cell_type": "code",
   "source": [
    "from sklearn.metrics import accuracy_score\n",
    "\n",
    "def train_and_evaluate(X_train, y_train, X_test, y_test, max_depths, loss_func):\n",
    "    train_accuracies = []\n",
    "    test_accuracies = []\n",
    "    \n",
    "    for max_depth in max_depths:\n",
    "        tree = DecisionTree(max_depth=max_depth, loss_func=loss_func)\n",
    "        tree.fit(X_train, y_train)\n",
    "        \n",
    "        y_train_pred = (tree.predict(X_train) >= 0.5).astype(int)\n",
    "        y_test_pred = (tree.predict(X_test) >= 0.5).astype(int)\n",
    "        \n",
    "        train_accuracies.append(accuracy_score(y_train, y_train_pred))\n",
    "        test_accuracies.append(accuracy_score(y_test, y_test_pred))\n",
    "    \n",
    "    return train_accuracies, test_accuracies"
   ],
   "id": "bcaa078deace616f",
   "outputs": [],
   "execution_count": 339
  },
  {
   "metadata": {
    "ExecuteTime": {
     "end_time": "2024-10-11T01:37:12.888819Z",
     "start_time": "2024-10-11T01:37:12.884767Z"
    }
   },
   "cell_type": "code",
   "source": [
    "# Load the dataset\n",
    "X_train = np.loadtxt('./decision_tree data/data/X_train.csv', delimiter=\",\")\n",
    "y_train = np.loadtxt('./decision_tree data/data/y_train.csv', delimiter=\",\").astype(int)\n",
    "X_test = np.loadtxt('./decision_tree data/data/X_test.csv', delimiter=\",\")\n",
    "y_test = np.loadtxt('./decision_tree data/data/y_test.csv', delimiter=\",\").astype(int)"
   ],
   "id": "928fcfc714565167",
   "outputs": [],
   "execution_count": 340
  },
  {
   "metadata": {},
   "cell_type": "markdown",
   "source": "## Question 1 answer: ",
   "id": "5328012eb83dfb92"
  },
  {
   "metadata": {},
   "cell_type": "markdown",
   "source": "Create a different plot for each of the three loss functions (misclassification error, Gini index, and entropy)",
   "id": "b90a3531192e5c0a"
  },
  {
   "metadata": {
    "ExecuteTime": {
     "end_time": "2024-10-11T01:37:13.938996Z",
     "start_time": "2024-10-11T01:37:12.901056Z"
    }
   },
   "cell_type": "code",
   "source": [
    "import matplotlib.pyplot as plt\n",
    "\n",
    "def plot_results(max_depths, train_acc, test_acc, title):\n",
    "    plt.plot(max_depths, train_acc, label='Training Accuracy')\n",
    "    plt.plot(max_depths, test_acc, label='Test Accuracy')\n",
    "    plt.xlabel('Max Depth')\n",
    "    plt.ylabel('Accuracy')\n",
    "    plt.title(title)\n",
    "    plt.legend()\n",
    "    plt.show()\n",
    "\n",
    "max_depths = range(1, 11)\n",
    "\n",
    "# Misclassification\n",
    "train_acc, test_acc = train_and_evaluate(X_train, y_train, X_test, y_test, max_depths, misclassification_loss)\n",
    "plot_results(max_depths, train_acc, test_acc, 'Misclassification Loss')\n",
    "\n",
    "# Gini\n",
    "train_acc, test_acc = train_and_evaluate(X_train, y_train, X_test, y_test, max_depths, gini)\n",
    "plot_results(max_depths, train_acc, test_acc, 'Gini Coefficient')\n",
    "\n",
    "# Entropy\n",
    "train_acc, test_acc = train_and_evaluate(X_train, y_train, X_test, y_test, max_depths, entropy)\n",
    "plot_results(max_depths, train_acc, test_acc, 'Entropy')"
   ],
   "id": "2196a78fa5ca6531",
   "outputs": [
    {
     "data": {
      "text/plain": [
       "<Figure size 640x480 with 1 Axes>"
      ],
      "image/png": "[encoded data removed]"
     },
     "metadata": {},
     "output_type": "display_data"
    },
    {
     "data": {
      "text/plain": [
       "<Figure size 640x480 with 1 Axes>"
      ],
      "image/png": "[encoded data removed]"
     },
     "metadata": {},
     "output_type": "display_data"
    },
    {
     "data": {
      "text/plain": [
       "<Figure size 640x480 with 1 Axes>"
      ],
      "image/png": "[encoded data removed]"
     },
     "metadata": {},
     "output_type": "display_data"
    }
   ],
   "execution_count": 341
  },
  {
   "metadata": {},
   "cell_type": "markdown",
   "source": "## Question 2",
   "id": "57c03eba41da5f6a"
  },
  {
   "metadata": {},
   "cell_type": "markdown",
   "source": "Observe and comment on how the different loss functions perform?",
   "id": "7cda9a1a50eb3b7b"
  },
  {
   "metadata": {},
   "cell_type": "markdown",
   "source": [
    "For Misclassification Error, I noticed that the training accuracy increases quickly as the depth grows, but the test accuracy eventually plateaus or drops due to overfitting. Since this loss function directly minimizes classification mistakes, it overfits faster compared to others.\n",
    "\n",
    "With the Gini Coefficient, both training and test accuracies improve more steadily as the tree gets deeper. Gini strikes a better balance between fitting the data and generalizing well, as it accounts for class uncertainty rather than just counting errors.\n",
    "\n",
    "Entropy behaves similarly to Gini, as both focus on reducing class impurity. In some cases, Entropy might offer slightly better generalization, but it comes at a higher computational cost. Like Gini, it handles uncertainty better and tends to overfit less than Misclassification.\n",
    "\n",
    "As the tree depth increases, training accuracy improves across the board, but I found that Misclassification Error overfits the quickest, while Gini and Entropy perform better at generalizing, with Gini often being the more efficient and reliable option."
   ],
   "id": "631843530e25da45"
  },
  {
   "metadata": {
    "ExecuteTime": {
     "end_time": "2024-10-11T01:37:13.953329Z",
     "start_time": "2024-10-11T01:37:13.951811Z"
    }
   },
   "cell_type": "code",
   "source": "",
   "id": "ca94e2bdaf0d3d4b",
   "outputs": [],
   "execution_count": null
  }
 ],
 "metadata": {
  "kernelspec": {
   "display_name": "Python 3",
   "language": "python",
   "name": "python3"
  },
  "language_info": {
   "codemirror_mode": {
    "name": "ipython",
    "version": 2
   },
   "file_extension": ".py",
   "mimetype": "text/x-python",
   "name": "python",
   "nbconvert_exporter": "python",
   "pygments_lexer": "ipython2",
   "version": "2.7.6"
  }
 },
 "nbformat": 4,
 "nbformat_minor": 5
}
